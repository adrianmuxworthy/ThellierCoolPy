{
 "cells": [
  {
   "cell_type": "markdown",
   "metadata": {
    "id": "1CKcZkNUEjhG"
   },
   "source": [
    "### The Cell below imports the functions and packages needed for ThellierCoolPy to run"
   ]
  },
  {
   "cell_type": "code",
   "execution_count": null,
   "metadata": {
    "id": "nz0I1ChPFXnD"
   },
   "outputs": [],
   "source": [
    "%%capture \n",
    "\n",
    "from google.colab import files\n",
    "def getLocalFiles():\n",
    "    _files = files.upload()\n",
    "    if len(_files) >0:\n",
    "       for k,v in _files.items():\n",
    "         open(k,'wb').write(v)"
   ]
  },
  {
   "cell_type": "markdown",
   "metadata": {
    "id": "KTSkbj5gZcDW"
   },
   "source": [
    "### Use this next cell to import the function file to the cloud. This is ThellierCoolFunc_Colab.py "
   ]
  },
  {
   "cell_type": "code",
   "execution_count": null,
   "metadata": {
    "id": "VIcta7EnG2VO"
   },
   "outputs": [],
   "source": [
    "getLocalFiles()"
   ]
  },
  {
   "cell_type": "markdown",
   "metadata": {
    "id": "we17lQQ0TrZ7"
   },
   "source": [
    "### Use this next cell to import the zip file which must contain the FORC data (.frc) file, the uncorrected Thellier (.tdt) files and if measured Ms-T curve data will be used, the Ms-T curve data (.dat) file. If no Ms-T curve data (.dat) file is found, you will be asked to manually import a Curie temperature at a later step."
   ]
  },
  {
   "cell_type": "code",
   "execution_count": null,
   "metadata": {
    "id": "YJM4qHnyTla_"
   },
   "outputs": [],
   "source": [
    "import ThellierCoolFunc_Colab as tf\n",
    "getLocalFiles()"
   ]
  },
  {
   "cell_type": "markdown",
   "metadata": {
    "id": "YIzQNKD-EjhN"
   },
   "source": [
    "### The cell below will open the zip file and processes the FORC data. The raw data files will be saved to a folder called 'raw_data'. The cell takes ~ 30 seconds to run."
   ]
  },
  {
   "cell_type": "code",
   "execution_count": null,
   "metadata": {
    "id": "NW5ZhLN2EjhP"
   },
   "outputs": [],
   "source": [
    "if ('X' in locals()) == False:\n",
    "    X = {}\n",
    "\n",
    "V = {} \n",
    "tf.open_zip_file()\n",
    "X, V, curve = tf.find_FORC_MsT(X, V)\n",
    "X = tf.proccess_all(X)\n",
    "X = tf.prod_FORCs(X)"
   ]
  },
  {
   "cell_type": "markdown",
   "metadata": {
    "id": "zqr_VvO8EjhT"
   },
   "source": [
    "### The next two cells calculate the full width at half maximum (FWHM). This is used in calculating the FORC distribution at SF = 0."
   ]
  },
  {
   "cell_type": "code",
   "execution_count": null,
   "metadata": {
    "id": "Cv-yDiRwEjhT"
   },
   "outputs": [],
   "source": [
    "X = tf.finding_fwhm(X)"
   ]
  },
  {
   "cell_type": "code",
   "execution_count": null,
   "metadata": {
    "id": "_MbMlPtGEjhT"
   },
   "outputs": [],
   "source": [
    "X = tf.plot_fwhm_1(X) "
   ]
  },
  {
   "cell_type": "markdown",
   "metadata": {
    "id": "_0OiqaxMEjhT"
   },
   "source": [
    "### This section is for checking for anomalous FWHM. If a point lies far from the line of best fit on the graph above remove the respective SF here. This line should have a slight positive gradient. "
   ]
  },
  {
   "cell_type": "code",
   "execution_count": null,
   "metadata": {
    "id": "7zPOv0kEEjhU"
   },
   "outputs": [],
   "source": [
    "X = tf.check_fwhm(X) "
   ]
  },
  {
   "cell_type": "markdown",
   "metadata": {
    "id": "49y8BVL0EjhU"
   },
   "source": [
    "### Enter the smallest smoothing factor which was accepted during the FWHM section above "
   ]
  },
  {
   "cell_type": "code",
   "execution_count": null,
   "metadata": {
    "id": "wNIzGLB5EjhU"
   },
   "outputs": [],
   "source": [
    "SF = (input(\"Input the lowest reliable SF from the FWHM graph above:\" )) #make this automatic to be smallest posisble?\n",
    "X['SF'] = int(SF)"
   ]
  },
  {
   "cell_type": "markdown",
   "metadata": {
    "id": "B7rekhwOEjhW"
   },
   "source": [
    "### This cell plots the FORC diagram with the smallest accepted smoothing factor\n"
   ]
  },
  {
   "cell_type": "code",
   "execution_count": null,
   "metadata": {
    "id": "8pOQhiqpEjhW"
   },
   "outputs": [],
   "source": [
    "X = tf.divide_mu0(X) #do i need this divide - havent checked in a while\n",
    "X = tf.sym_norm_forcs(X)\n",
    "tf.norm_rho_all(X)\n",
    "tf.plot_sample_FORC(X['Hc'], X['Hu'], X['rho_n'], X['SF'], X['name'])"
   ]
  },
  {
   "cell_type": "markdown",
   "metadata": {
    "id": "p3e16Hm0EjhW"
   },
   "source": [
    "### Input the lab cooling time in hours, the natural cooling time in hours. If there is no Ms-T data (.dat) file in your original zip folder, you will also be asked to input a Curie temperature for the sample in &deg;C. Also, using the displayed FORC diagram above please select the absolute maximum Hc and Hi where the FORC distribution is not zero to increase the model efficiency by only picking points with non-zero values."
   ]
  },
  {
   "cell_type": "code",
   "execution_count": null,
   "metadata": {
    "id": "HsUDehRWEjhX"
   },
   "outputs": [],
   "source": [
    "X, V = tf.user_input(X, V, curve)"
   ]
  },
  {
   "cell_type": "markdown",
   "metadata": {
    "id": "RadZLGi5EjhZ"
   },
   "source": [
    "### This cell will correct the Thellier files (.tdt) and produce a zipped folder (processed_data.zip) which contains the corrected Thellier files (original_file_name_U.tdt) along with the the FORC diagram (forc_file_name.pdf). This will take ~ 3 minutes."
   ]
  },
  {
   "cell_type": "code",
   "execution_count": null,
   "metadata": {
    "id": "ZWcl5qnNEjhZ",
    "scrolled": true
   },
   "outputs": [],
   "source": [
    "tf.TRM_acq(X, V, curve)\n",
    "V = tf.plots_correction_factor(V,X)\n",
    "tf.fix_files(V)\n",
    "tf.plot_sample_FORC2(X['Hc'], X['Hu'], X['rho_n'], X['SF'], X['name'],X['reset_limit_hc'],X['reset_limit_hi'])"
   ]
  }
 ],
 "metadata": {
  "colab": {
   "collapsed_sections": [],
   "name": "ThellierCoolPy_Colab.ipynb",
   "provenance": []
  },
  "interpreter": {
   "hash": "9ae5efa8e6e527f0a2f4786273bac8541d318017de906762541f8b1ffc6374bc"
  },
  "kernelspec": {
   "display_name": "Python 3",
   "language": "python",
   "name": "python3"
  },
  "language_info": {
   "codemirror_mode": {
    "name": "ipython",
    "version": 3
   },
   "file_extension": ".py",
   "mimetype": "text/x-python",
   "name": "python",
   "nbconvert_exporter": "python",
   "pygments_lexer": "ipython3",
   "version": "3.7.4"
  }
 },
 "nbformat": 4,
 "nbformat_minor": 1
}
