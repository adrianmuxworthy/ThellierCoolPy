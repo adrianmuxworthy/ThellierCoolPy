{
  "nbformat": 4,
  "nbformat_minor": 0,
  "metadata": {
    "kernelspec": {
      "display_name": "Python 3",
      "language": "python",
      "name": "python3"
    },
    "language_info": {
      "codemirror_mode": {
        "name": "ipython",
        "version": 3
      },
      "file_extension": ".py",
      "mimetype": "text/x-python",
      "name": "python",
      "nbconvert_exporter": "python",
      "pygments_lexer": "ipython3",
      "version": "3.7.4"
    },
    "colab": {
      "name": "ThellierCoolPy_colab.ipynb",
      "provenance": [],
      "collapsed_sections": []
    }
  },
  "cells": [
    {
      "cell_type": "markdown",
      "metadata": {
        "id": "1CKcZkNUEjhG"
      },
      "source": [
        "### The Cell below imports the functions and packages needed for ThellierCoolPy to run"
      ]
    },
    {
      "cell_type": "code",
      "metadata": {
        "id": "nz0I1ChPFXnD"
      },
      "source": [
        "!pip install ipyfilechooser\n",
        "!pip install tk\n",
        "!pip install ipywidgets\n",
        "\n",
        "\n",
        "from google.colab import files\n",
        "def getLocalFiles():\n",
        "    _files = files.upload()\n",
        "    if len(_files) >0:\n",
        "       for k,v in _files.items():\n",
        "         open(k,'wb').write(v)\n"
      ],
      "execution_count": null,
      "outputs": []
    },
    {
      "cell_type": "markdown",
      "metadata": {
        "id": "KTSkbj5gZcDW"
      },
      "source": [
        "### Use this next cell to import all the files needed to the Cloud: This includes ThellierCoolFunc_colab which is downloadable from the Github page and the Ms-T curve, FORC diagram and the uncorrected Thellier files"
      ]
    },
    {
      "cell_type": "code",
      "metadata": {
        "id": "VIcta7EnG2VO"
      },
      "source": [
        "getLocalFiles()"
      ],
      "execution_count": null,
      "outputs": []
    },
    {
      "cell_type": "code",
      "metadata": {
        "id": "-NhZ3avNEjhL"
      },
      "source": [
        "import ThellierCoolFunc_colab as tf\n",
        "from tkinter import Tk\n",
        "from tkinter.filedialog import askdirectory"
      ],
      "execution_count": null,
      "outputs": []
    },
    {
      "cell_type": "markdown",
      "metadata": {
        "id": "WkENstnBbzVh"
      },
      "source": [
        ""
      ]
    },
    {
      "cell_type": "markdown",
      "metadata": {
        "id": "YIzQNKD-EjhN"
      },
      "source": [
        "### Select your chosen FORC file using the cell below"
      ]
    },
    {
      "cell_type": "code",
      "metadata": {
        "id": "olDYnVPKEjhO"
      },
      "source": [
        "fc = tf.FORCfile()"
      ],
      "execution_count": null,
      "outputs": []
    },
    {
      "cell_type": "code",
      "metadata": {
        "id": "NW5ZhLN2EjhP"
      },
      "source": [
        "if ('X' in locals()) == False:\n",
        "    X = {}\n",
        "\n",
        "X[\"fn\"] = fc.selected\n",
        "X = tf.proccess_all(X)"
      ],
      "execution_count": null,
      "outputs": []
    },
    {
      "cell_type": "markdown",
      "metadata": {
        "id": "PYlWlcJCEjhQ"
      },
      "source": [
        "### Name the FORC sample"
      ]
    },
    {
      "cell_type": "code",
      "metadata": {
        "id": "K-gxBWPIEjhQ"
      },
      "source": [
        "name = str(input(\"Sample name of chosen FORC diagram: \" ))\n",
        "X['name'] = name"
      ],
      "execution_count": null,
      "outputs": []
    },
    {
      "cell_type": "markdown",
      "metadata": {
        "id": "ECfZh3QFEjhR"
      },
      "source": [
        "### Cells below processes the FORC data for the model. This cell takes ~ 1 minute to run \n"
      ]
    },
    {
      "cell_type": "code",
      "metadata": {
        "id": "Z3tTbFteEjhR"
      },
      "source": [
        "X = tf.prod_FORCs(X)"
      ],
      "execution_count": null,
      "outputs": []
    },
    {
      "cell_type": "markdown",
      "metadata": {
        "id": "zqr_VvO8EjhT"
      },
      "source": [
        "### Run the two cells below to find FWHM to calcualte SF=0 FORC diagram to use in model"
      ]
    },
    {
      "cell_type": "code",
      "metadata": {
        "id": "Cv-yDiRwEjhT"
      },
      "source": [
        "X = tf.finding_fwhm(X)"
      ],
      "execution_count": null,
      "outputs": []
    },
    {
      "cell_type": "code",
      "metadata": {
        "id": "_MbMlPtGEjhT"
      },
      "source": [
        "X = tf.plot_fwhm_1(X) "
      ],
      "execution_count": null,
      "outputs": []
    },
    {
      "cell_type": "markdown",
      "metadata": {
        "id": "_0OiqaxMEjhT"
      },
      "source": [
        "### This section is checking for anomalous FWHM which should all lie on a line with a slight positive gradient. Remove the outliers by specifing the SF to remove when prompted"
      ]
    },
    {
      "cell_type": "code",
      "metadata": {
        "id": "7zPOv0kEEjhU"
      },
      "source": [
        "X = tf.check_fwhm(X) "
      ],
      "execution_count": null,
      "outputs": []
    },
    {
      "cell_type": "markdown",
      "metadata": {
        "id": "49y8BVL0EjhU"
      },
      "source": [
        "## Enter the smallest smoothing factor which was accepted during the FWHM section above "
      ]
    },
    {
      "cell_type": "code",
      "metadata": {
        "id": "wNIzGLB5EjhU"
      },
      "source": [
        "SF = (input(\"Input the lowest reliable SF from the FWHM graph above:\" )) #make this automatic to be smallest posisble?\n",
        "X['SF'] = int(SF)"
      ],
      "execution_count": null,
      "outputs": []
    },
    {
      "cell_type": "markdown",
      "metadata": {
        "id": "B7rekhwOEjhW"
      },
      "source": [
        "### Plot full FORC diagram of chosen smoothing factor to use in selecting boundaries \n"
      ]
    },
    {
      "cell_type": "code",
      "metadata": {
        "id": "8pOQhiqpEjhW"
      },
      "source": [
        "sf_plot = str(input(\"Smoothing factor for plotting FORC diagram (between 2 and 5):\" ))\n",
        "X['sf_choose'] = int(sf_plot)\n",
        "X = tf.divide_mu0(X) #do i need this divide - havent checked in a while\n",
        "X = tf.sym_norm_forcs(X)\n",
        "tf.norm_rho_all(X)\n",
        "tf.plot_sample_FORC(X['Hc'], X['Hu'], X['rho_n'], X['sf_choose'], X['name'])"
      ],
      "execution_count": null,
      "outputs": []
    },
    {
      "cell_type": "markdown",
      "metadata": {
        "id": "p3e16Hm0EjhW"
      },
      "source": [
        "### Input the lab cooling time, the natural cooling time, the maximum Ms (if not using a Ms-T curve), the Curie temperature (if not using Ms-T curve). Using the FORC diagram above, select the boundaries where the distribution is not zero - to increase model resolution"
      ]
    },
    {
      "cell_type": "code",
      "metadata": {
        "id": "HsUDehRWEjhX"
      },
      "source": [
        "lab_cool_time = (input(\"Input the lab cooling time in hours:\" )) #add statements to protect in case of bad input\n",
        "nature_cool_time = (input(\"Input the natural cooling time in hours:\" ))\n",
        "X['lab_cool'] = lab_cool_time\n",
        "X['nat_cool'] = nature_cool_time\n",
        "curie_t = (input(\"Input curie temp (if using Ms-T curve input Nan):\" ))\n",
        "max_input = (input(\"Adjust maximum hc (mT) using FORC diagram:\" ))\n",
        "max_inputhi = (input(\"Adjust maximum positive hi (mT) using FORC diagram:\" ))\n",
        "X['reset_limit_hc'] = float(max_input)\n",
        "X['reset_limit_hi'] = float(max_inputhi)\n",
        "V = {}\n",
        "V['curie_t'] = float(curie_t)"
      ],
      "execution_count": null,
      "outputs": []
    },
    {
      "cell_type": "markdown",
      "metadata": {
        "id": "8xMBwVmEEjhX"
      },
      "source": [
        "### Select the location of the folder containing the Thellier plots to correct from the pop up window\n"
      ]
    },
    {
      "cell_type": "markdown",
      "metadata": {
        "id": "HHBeiNijEjhY"
      },
      "source": [
        "### If using Ms-T curve select it here. Else run the cell but do not select a file "
      ]
    },
    {
      "cell_type": "code",
      "metadata": {
        "id": "zxhKyt8tEjhY"
      },
      "source": [
        "ms_t = tf.ms_t_file()"
      ],
      "execution_count": null,
      "outputs": []
    },
    {
      "cell_type": "code",
      "metadata": {
        "id": "wFqTZCpVEjhY"
      },
      "source": [
        "V, curve = tf.read_file2(ms_t, V)"
      ],
      "execution_count": null,
      "outputs": []
    },
    {
      "cell_type": "markdown",
      "metadata": {
        "id": "RadZLGi5EjhZ"
      },
      "source": [
        "### This cell will process correct the Thellier plots for the selected cooling rate in the selected folder and save the FORC diagram with the chosen limits - this will take ~ 3 minutes "
      ]
    },
    {
      "cell_type": "code",
      "metadata": {
        "scrolled": true,
        "id": "ZWcl5qnNEjhZ"
      },
      "source": [
        "tf.TRM_acq(X, V, curve)\n",
        "V = tf.plots_correction_factor(V,X)\n",
        "tf.fix_files(V)\n",
        "tf.plot_sample_FORC2(X['Hc'], X['Hu'], X['rho_n'], X['sf_choose'], X['name'],X['reset_limit_hc'],X['reset_limit_hi'])"
      ],
      "execution_count": null,
      "outputs": []
    }
  ]
}