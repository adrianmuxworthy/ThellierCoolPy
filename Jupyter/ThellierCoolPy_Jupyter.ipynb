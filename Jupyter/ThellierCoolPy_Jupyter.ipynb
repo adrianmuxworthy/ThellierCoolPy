{
 "cells": [
  {
   "cell_type": "markdown",
   "metadata": {},
   "source": [
    "### The Cell below imports the functions and packages needed for ThellierCoolPy to run"
   ]
  },
  {
   "cell_type": "code",
   "execution_count": null,
   "metadata": {},
   "outputs": [],
   "source": [
    "import ThellierCoolFunc_Jupyter as tf"
   ]
  },
  {
   "cell_type": "markdown",
   "metadata": {},
   "source": [
    "### The cell below will search within the current directory for a zip file which must contain the FORC data (.frc) file, the uncorrected Thellier (.tdt) files and if measured Ms-T curve data will be used, the Ms-T curve data (.dat) file. If no Ms-T curve data (.dat) file is found, you will be asked to manually import a Curie temperature at a later step. This cell also processes the FORC data. The raw data files will be saved to a folder called 'raw_data'. The cell takes ~ 30 seconds to run."
   ]
  },
  {
   "cell_type": "code",
   "execution_count": null,
   "metadata": {},
   "outputs": [],
   "source": [
    "if ('X' in locals()) == False:\n",
    "    X = {}\n",
    "V = {} \n",
    "tf.open_zip_file()\n",
    "X, V, curve = tf.find_FORC_MsT(X, V)\n",
    "X = tf.proccess_all(X)\n",
    "X = tf.prod_FORCs(X)"
   ]
  },
  {
   "cell_type": "markdown",
   "metadata": {},
   "source": [
    "### The next two cells calculate the full width at half maximum (FWHM). This is used in calculating the FORC distribution at SF = 0."
   ]
  },
  {
   "cell_type": "code",
   "execution_count": null,
   "metadata": {},
   "outputs": [],
   "source": [
    "X = tf.finding_fwhm(X)"
   ]
  },
  {
   "cell_type": "code",
   "execution_count": null,
   "metadata": {},
   "outputs": [],
   "source": [
    "\n",
    "X = tf.plot_fwhm_1(X)"
   ]
  },
  {
   "cell_type": "markdown",
   "metadata": {},
   "source": [
    "### This section is checking for anomalous FWHM. If a point lies far from the line of best fit on the graoh above remove the respective SF here. This line should have a slight positive gradient. "
   ]
  },
  {
   "cell_type": "code",
   "execution_count": null,
   "metadata": {},
   "outputs": [],
   "source": [
    "X = tf.check_fwhm(X) "
   ]
  },
  {
   "cell_type": "markdown",
   "metadata": {},
   "source": [
    "### Enter the smallest smoothing factor which was accepted in the FWHM section above "
   ]
  },
  {
   "cell_type": "code",
   "execution_count": null,
   "metadata": {},
   "outputs": [],
   "source": [
    "SF = (input(\"Input the lowest reliable SF from the FWHM graph above:\" )) \n",
    "X['SF'] = int(SF)"
   ]
  },
  {
   "cell_type": "markdown",
   "metadata": {},
   "source": [
    "### This cell plots the FORC diagram with the smallest accepted smoothing factor\n"
   ]
  },
  {
   "cell_type": "code",
   "execution_count": null,
   "metadata": {},
   "outputs": [],
   "source": [
    "X = tf.divide_mu0(X) \n",
    "X = tf.sym_norm_forcs(X)\n",
    "tf.norm_rho_all(X)\n",
    "tf.plot_sample_FORC(X['Hc'], X['Hu'], X['rho_n'], X['SF'], X['name'])"
   ]
  },
  {
   "cell_type": "markdown",
   "metadata": {},
   "source": [
    "### Input the lab cooling time in hours, the natural cooling time in hours. If there is no Ms-T data (.dat) file in your original zip folder, you will also be asked to input a Curie temperature for the sample in &deg;C. Also, using the displayed FORC diagram above please select the absolute maximum Hc and Hi where the FORC distribution is not zero to increase the model efficiency by only picking points with non-zero values."
   ]
  },
  {
   "cell_type": "code",
   "execution_count": null,
   "metadata": {},
   "outputs": [],
   "source": [
    "X, V = tf.user_input(X, V, curve)"
   ]
  },
  {
   "cell_type": "markdown",
   "metadata": {},
   "source": [
    "### This cell will correct the Thellier files (.tdt) and produce a zipped folder (processed_data.zip) which contains the corrected Thellier files (original_file_name_U.tdt) along with the the FORC diagram (forc_file_name.pdf). This will take ~ 3 minutes "
   ]
  },
  {
   "cell_type": "code",
   "execution_count": null,
   "metadata": {
    "scrolled": true
   },
   "outputs": [],
   "source": [
    "tf.TRM_acq(X, V, curve)\n",
    "V = tf.plots_correction_factor(V,X)\n",
    "tf.fix_files(V)\n",
    "tf.plot_sample_FORC2(X['Hc'], X['Hu'], X['rho_n'], X['SF'], X['name'],X['reset_limit_hc'],X['reset_limit_hi'])"
   ]
  }
 ],
 "metadata": {
  "interpreter": {
   "hash": "9ae5efa8e6e527f0a2f4786273bac8541d318017de906762541f8b1ffc6374bc"
  },
  "kernelspec": {
   "display_name": "Python 3",
   "language": "python",
   "name": "python3"
  },
  "language_info": {
   "codemirror_mode": {
    "name": "ipython",
    "version": 3
   },
   "file_extension": ".py",
   "mimetype": "text/x-python",
   "name": "python",
   "nbconvert_exporter": "python",
   "pygments_lexer": "ipython3",
   "version": "3.7.4"
  }
 },
 "nbformat": 4,
 "nbformat_minor": 2
}
