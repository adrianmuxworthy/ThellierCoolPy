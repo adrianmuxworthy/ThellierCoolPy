{
 "cells": [
  {
   "cell_type": "markdown",
   "metadata": {},
   "source": [
    "### The Cell below imports the functions and packages needed for ThellierCoolPy to run"
   ]
  },
  {
   "cell_type": "code",
   "execution_count": null,
   "metadata": {},
   "outputs": [],
   "source": [
    "import ThellierCoolFunc_Jupyter as tf\n",
    "from tkinter import Tk\n",
    "from tkinter.filedialog import askdirectory"
   ]
  },
  {
   "cell_type": "markdown",
   "metadata": {},
   "source": [
    "### Select your chosen FORC file using the cell below"
   ]
  },
  {
   "cell_type": "code",
   "execution_count": null,
   "metadata": {},
   "outputs": [],
   "source": [
    "fc = tf.FORCfile()"
   ]
  },
  {
   "cell_type": "markdown",
   "metadata": {},
   "source": [
    "### This cell below processes the FORC file "
   ]
  },
  {
   "cell_type": "code",
   "execution_count": null,
   "metadata": {},
   "outputs": [],
   "source": [
    "if ('X' in locals()) == False:\n",
    "    X = {}\n",
    "\n",
    "X[\"fn\"] = fc.selected\n",
    "X = tf.proccess_all(X)"
   ]
  },
  {
   "cell_type": "markdown",
   "metadata": {},
   "source": [
    "### Cells below processes the FORC data for the model. This cell takes ~ 30 seconds to run \n"
   ]
  },
  {
   "cell_type": "code",
   "execution_count": null,
   "metadata": {},
   "outputs": [],
   "source": [
    "X = tf.prod_FORCs(X)"
   ]
  },
  {
   "cell_type": "markdown",
   "metadata": {},
   "source": [
    "### Please run the two cells below to find FWHM to calcualte SF=0 FORC diagram to use in model"
   ]
  },
  {
   "cell_type": "code",
   "execution_count": null,
   "metadata": {},
   "outputs": [],
   "source": [
    "X = tf.finding_fwhm(X)"
   ]
  },
  {
   "cell_type": "code",
   "execution_count": null,
   "metadata": {},
   "outputs": [],
   "source": [
    "X = tf.plot_fwhm_1(X) "
   ]
  },
  {
   "cell_type": "markdown",
   "metadata": {},
   "source": [
    "### This section is checking for anomalous FWHM. If a point lies far from the line of best fit remove the respective SF here. This line should have a slight positive gradient. "
   ]
  },
  {
   "cell_type": "code",
   "execution_count": null,
   "metadata": {},
   "outputs": [],
   "source": [
    "X = tf.check_fwhm(X) "
   ]
  },
  {
   "cell_type": "markdown",
   "metadata": {},
   "source": [
    "## Enter the smallest smoothing factor which was accepted in the FWHM section above "
   ]
  },
  {
   "cell_type": "code",
   "execution_count": null,
   "metadata": {},
   "outputs": [],
   "source": [
    "SF = (input(\"Input the lowest reliable SF from the FWHM graph above:\" )) \n",
    "X['SF'] = int(SF)"
   ]
  },
  {
   "cell_type": "markdown",
   "metadata": {},
   "source": [
    "### Plot full FORC diagram of chosen smoothing factor to use in selecting boundaries \n"
   ]
  },
  {
   "cell_type": "code",
   "execution_count": null,
   "metadata": {},
   "outputs": [],
   "source": [
    "X = tf.divide_mu0(X) #do i need this divide - havent checked in a while\n",
    "X = tf.sym_norm_forcs(X)\n",
    "tf.norm_rho_all(X)\n",
    "tf.plot_sample_FORC(X['Hc'], X['Hu'], X['rho_n'], X['SF'], X['name'])"
   ]
  },
  {
   "cell_type": "markdown",
   "metadata": {},
   "source": [
    "### Input the lab cooling time, the natural cooling time, the maximum Ms (if not using a Ms-T curve), the Curie temperature (if not using Ms-T curve). Using the FORC diagram above, select the boundaries where the distribution is not zero - to increase model resolution"
   ]
  },
  {
   "cell_type": "code",
   "execution_count": null,
   "metadata": {},
   "outputs": [],
   "source": [
    "lab_cool_time = (input(\"Input the lab cooling time in hours:\" )) #add statements to protect in case of bad input\n",
    "nature_cool_time = (input(\"Input the natural cooling time in hours:\" ))\n",
    "X['lab_cool'] = lab_cool_time\n",
    "X['nat_cool'] = nature_cool_time\n",
    "curie_t = (input(\"Input curie temp in degrees C (if using Ms-T curve input Nan):\" ))\n",
    "max_input = (input(\"Adjust maximum hc (mT) using FORC diagram:\" ))\n",
    "max_inputhi = (input(\"Adjust maximum positive hi (mT) using FORC diagram:\" ))\n",
    "X['reset_limit_hc'] = float(max_input)\n",
    "X['reset_limit_hi'] = float(max_inputhi)\n",
    "V = {}\n",
    "V['curie_t'] = float(curie_t)"
   ]
  },
  {
   "cell_type": "markdown",
   "metadata": {},
   "source": [
    "### Select the location of the folder containing the Thellier plots to correct from the pop up window\n"
   ]
  },
  {
   "cell_type": "code",
   "execution_count": null,
   "metadata": {},
   "outputs": [],
   "source": [
    "path = askdirectory(title='Select Folder') "
   ]
  },
  {
   "cell_type": "markdown",
   "metadata": {},
   "source": [
    "### If using Ms-T curve select it here. Else run the cell but do not select a file "
   ]
  },
  {
   "cell_type": "code",
   "execution_count": null,
   "metadata": {},
   "outputs": [],
   "source": [
    "ms_t = tf.ms_t_file()"
   ]
  },
  {
   "cell_type": "code",
   "execution_count": null,
   "metadata": {},
   "outputs": [],
   "source": [
    "V, curve = tf.read_file2(ms_t, V)"
   ]
  },
  {
   "cell_type": "markdown",
   "metadata": {},
   "source": [
    "### This cell will process correct the Thellier plots for the selected cooling rate in the selected folder and save the FORC diagram with the chosen limits - this will take ~ 3 minutes "
   ]
  },
  {
   "cell_type": "code",
   "execution_count": null,
   "metadata": {
    "scrolled": true
   },
   "outputs": [],
   "source": [
    "tf.TRM_acq(X, V, curve, path)\n",
    "V = tf.plots_correction_factor(V,X)\n",
    "tf.fix_files(path, V)\n",
    "tf.plot_sample_FORC2(X['Hc'], X['Hu'], X['rho_n'], X['SF'], X['name'],X['reset_limit_hc'],X['reset_limit_hi'])"
   ]
  },
  {
   "cell_type": "code",
   "execution_count": null,
   "metadata": {},
   "outputs": [],
   "source": []
  }
 ],
 "metadata": {
  "kernelspec": {
   "display_name": "Python 3",
   "language": "python",
   "name": "python3"
  },
  "language_info": {
   "codemirror_mode": {
    "name": "ipython",
    "version": 3
   },
   "file_extension": ".py",
   "mimetype": "text/x-python",
   "name": "python",
   "nbconvert_exporter": "python",
   "pygments_lexer": "ipython3",
   "version": "3.7.4"
  }
 },
 "nbformat": 4,
 "nbformat_minor": 2
}
